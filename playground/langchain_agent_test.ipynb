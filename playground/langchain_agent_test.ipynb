{
 "cells": [
  {
   "cell_type": "code",
   "execution_count": 1,
   "metadata": {},
   "outputs": [
    {
     "data": {
      "text/plain": [
       "True"
      ]
     },
     "execution_count": 1,
     "metadata": {},
     "output_type": "execute_result"
    }
   ],
   "source": [
    "import os\n",
    "from dotenv import load_dotenv\n",
    "load_dotenv()"
   ]
  },
  {
   "cell_type": "code",
   "execution_count": 2,
   "metadata": {},
   "outputs": [
    {
     "name": "stdout",
     "output_type": "stream",
     "text": [
      "[{'url': 'https://www.accuweather.com/en/nl/kampen/250100/weather-forecast/250100', 'content': 'Kampen, Overijssel, Netherlands Weather Forecast, with current conditions, wind, air quality, and what to expect for the next 3 days.'}, {'url': 'https://www.bbc.com/weather/2753106', 'content': 'Observed at 20:00, Saturday 15 June BBC Weather in association with MeteoGroup, external All times are Central European Summer Time (Europe/Amsterdam, GMT+2) unless otherwise stated ...'}]\n"
     ]
    }
   ],
   "source": [
    "from langchain_community.tools.tavily_search import TavilySearchResults\n",
    "\n",
    "search = TavilySearchResults(max_results=2)\n",
    "search_results = search.invoke(\"what is the weather in Kampen, the Netherlands?\")\n",
    "print(search_results)\n",
    "\n",
    "# If we want, we can create other tools.\n",
    "# Once we have all the tools we want, we can put them in a list that we will reference later.\n",
    "tools = [search]"
   ]
  },
  {
   "cell_type": "code",
   "execution_count": 3,
   "metadata": {},
   "outputs": [],
   "source": [
    "from langchain_openai import ChatOpenAI\n",
    "model = ChatOpenAI(model=\"gpt-3.5-turbo\")"
   ]
  },
  {
   "cell_type": "code",
   "execution_count": 4,
   "metadata": {},
   "outputs": [],
   "source": [
    "model_with_tools = model.bind_tools(tools)"
   ]
  },
  {
   "cell_type": "code",
   "execution_count": 6,
   "metadata": {},
   "outputs": [
    {
     "name": "stdout",
     "output_type": "stream",
     "text": [
      "ContentString: \n",
      "ToolCalls: [{'name': 'tavily_search_results_json', 'args': {'query': 'weather in Osnabrück, Germany'}, 'id': 'call_sGT3RBCY8nvJaX1VlNlobCkP'}]\n"
     ]
    }
   ],
   "source": [
    "from langchain_core.messages import HumanMessage\n",
    "response = model_with_tools.invoke([HumanMessage(content=\"What's the weather in Osnabrück, Germany?\")])\n",
    "\n",
    "print(f\"ContentString: {response.content}\")\n",
    "print(f\"ToolCalls: {response.tool_calls}\")\n",
    "# Model is just telling us to call a tool"
   ]
  },
  {
   "cell_type": "code",
   "execution_count": 7,
   "metadata": {},
   "outputs": [],
   "source": [
    "from langgraph.prebuilt import create_react_agent\n",
    "\n",
    "agent_executor = create_react_agent(model, tools)"
   ]
  },
  {
   "cell_type": "code",
   "execution_count": 8,
   "metadata": {},
   "outputs": [
    {
     "data": {
      "text/plain": [
       "[HumanMessage(content='hi!', id='aeb5bcdf-b82d-4c2d-af41-ce6181cfe791'),\n",
       " AIMessage(content='Hello! How can I assist you today?', response_metadata={'token_usage': {'completion_tokens': 10, 'prompt_tokens': 83, 'total_tokens': 93}, 'model_name': 'gpt-3.5-turbo', 'system_fingerprint': None, 'finish_reason': 'stop', 'logprobs': None}, id='run-f205f6b5-279d-4c21-b8c9-000afb939237-0', usage_metadata={'input_tokens': 83, 'output_tokens': 10, 'total_tokens': 93})]"
      ]
     },
     "execution_count": 8,
     "metadata": {},
     "output_type": "execute_result"
    }
   ],
   "source": [
    "response = agent_executor.invoke({\"messages\": [HumanMessage(content=\"hi!\")]})\n",
    "\n",
    "response[\"messages\"]\n",
    "# No tool call"
   ]
  },
  {
   "cell_type": "code",
   "execution_count": 9,
   "metadata": {},
   "outputs": [
    {
     "data": {
      "text/plain": [
       "[HumanMessage(content='current weather in osnabrueck germany?', id='1f7c595e-8faa-4977-af2f-8f615bbc73d1'),\n",
       " AIMessage(content='', additional_kwargs={'tool_calls': [{'id': 'call_L8YZAdbwPsz1Kw8qe6KUgIHg', 'function': {'arguments': '{\"query\":\"current weather in Osnabrueck, Germany\"}', 'name': 'tavily_search_results_json'}, 'type': 'function'}]}, response_metadata={'token_usage': {'completion_tokens': 27, 'prompt_tokens': 91, 'total_tokens': 118}, 'model_name': 'gpt-3.5-turbo', 'system_fingerprint': None, 'finish_reason': 'tool_calls', 'logprobs': None}, id='run-c1dd667a-5755-4245-a3c3-4d05f35ef592-0', tool_calls=[{'name': 'tavily_search_results_json', 'args': {'query': 'current weather in Osnabrueck, Germany'}, 'id': 'call_L8YZAdbwPsz1Kw8qe6KUgIHg'}], usage_metadata={'input_tokens': 91, 'output_tokens': 27, 'total_tokens': 118}),\n",
       " ToolMessage(content='[{\"url\": \"https://www.accuweather.com/en/de/osnabr\\\\u00fcck/49074/weather-forecast/169819\", \"content\": \"Osnabr\\\\u00fcck, Lower Saxony, Germany Weather Forecast, with current conditions, wind, air quality, and what to expect for the next 3 days.\"}, {\"url\": \"https://www.weatherapi.com/\", \"content\": \"{\\'location\\': {\\'name\\': \\'New Germany\\', \\'region\\': \\'Minnesota\\', \\'country\\': \\'USA United States of America\\', \\'lat\\': 44.89, \\'lon\\': -93.97, \\'tz_id\\': \\'America/Chicago\\', \\'localtime_epoch\\': 1718972171, \\'localtime\\': \\'2024-06-21 7:16\\'}, \\'current\\': {\\'last_updated_epoch\\': 1718972100, \\'last_updated\\': \\'2024-06-21 07:15\\', \\'temp_c\\': 17.3, \\'temp_f\\': 63.1, \\'is_day\\': 1, \\'condition\\': {\\'text\\': \\'Light rain\\', \\'icon\\': \\'//cdn.weatherapi.com/weather/64x64/day/296.png\\', \\'code\\': 1183}, \\'wind_mph\\': 10.5, \\'wind_kph\\': 16.9, \\'wind_degree\\': 80, \\'wind_dir\\': \\'E\\', \\'pressure_mb\\': 1020.0, \\'pressure_in\\': 30.13, \\'precip_mm\\': 4.86, \\'precip_in\\': 0.19, \\'humidity\\': 99, \\'cloud\\': 100, \\'feelslike_c\\': 17.3, \\'feelslike_f\\': 63.1, \\'windchill_c\\': 16.4, \\'windchill_f\\': 61.6, \\'heatindex_c\\': 16.4, \\'heatindex_f\\': 61.6, \\'dewpoint_c\\': 16.0, \\'dewpoint_f\\': 60.8, \\'vis_km\\': 6.4, \\'vis_miles\\': 3.0, \\'uv\\': 4.0, \\'gust_mph\\': 18.9, \\'gust_kph\\': 30.5}}\"}]', name='tavily_search_results_json', id='08134475-5add-4e7d-820a-0a299d8676dc', tool_call_id='call_L8YZAdbwPsz1Kw8qe6KUgIHg'),\n",
       " AIMessage(content='The current weather in Osnabrueck, Germany is not directly available in the search results. However, you can check the current weather conditions in Osnabrueck on AccuWeather by visiting the following link: [AccuWeather - Osnabrueck Weather Forecast](https://www.accuweather.com/en/de/osnabr\\\\u00fcck/49074/weather-forecast/169819)', response_metadata={'token_usage': {'completion_tokens': 85, 'prompt_tokens': 607, 'total_tokens': 692}, 'model_name': 'gpt-3.5-turbo', 'system_fingerprint': None, 'finish_reason': 'stop', 'logprobs': None}, id='run-50700c70-ae5f-45ef-8124-55f94a7f18f9-0', usage_metadata={'input_tokens': 607, 'output_tokens': 85, 'total_tokens': 692})]"
      ]
     },
     "execution_count": 9,
     "metadata": {},
     "output_type": "execute_result"
    }
   ],
   "source": [
    "response = agent_executor.invoke(\n",
    "    {\"messages\": [HumanMessage(content=\"current weather in osnabrueck germany?\")]}\n",
    ")\n",
    "response[\"messages\"]\n",
    "# Should call tool"
   ]
  },
  {
   "cell_type": "code",
   "execution_count": 10,
   "metadata": {},
   "outputs": [
    {
     "name": "stdout",
     "output_type": "stream",
     "text": [
      "{'agent': {'messages': [AIMessage(content='', additional_kwargs={'tool_calls': [{'id': 'call_HmMqnmoHjOkbp51wEFN068Mi', 'function': {'arguments': '{\"query\":\"weather in San Francisco\"}', 'name': 'tavily_search_results_json'}, 'type': 'function'}]}, response_metadata={'token_usage': {'completion_tokens': 21, 'prompt_tokens': 88, 'total_tokens': 109}, 'model_name': 'gpt-3.5-turbo', 'system_fingerprint': None, 'finish_reason': 'tool_calls', 'logprobs': None}, id='run-aca31f3e-a0a5-450d-9ee0-4d1f1f10089c-0', tool_calls=[{'name': 'tavily_search_results_json', 'args': {'query': 'weather in San Francisco'}, 'id': 'call_HmMqnmoHjOkbp51wEFN068Mi'}], usage_metadata={'input_tokens': 88, 'output_tokens': 21, 'total_tokens': 109})]}}\n",
      "----\n",
      "{'tools': {'messages': [ToolMessage(content='[{\"url\": \"https://www.accuweather.com/en/us/san-francisco/94103/june-weather/347629\", \"content\": \"Get the monthly weather forecast for San Francisco, CA, including daily high/low, historical averages, to help you plan ahead.\"}, {\"url\": \"https://world-weather.info/forecast/usa/san_francisco/june-2024/\", \"content\": \"Extended weather forecast in San Francisco. Hourly Week 10 days 14 days 30 days Year. Detailed \\\\u26a1 San Francisco Weather Forecast for June 2024 - day/night \\\\ud83c\\\\udf21\\\\ufe0f temperatures, precipitations - World-Weather.info.\"}]', name='tavily_search_results_json', tool_call_id='call_HmMqnmoHjOkbp51wEFN068Mi')]}}\n",
      "----\n",
      "{'agent': {'messages': [AIMessage(content='I found some resources that provide weather information for San Francisco:\\n1. [AccuWeather - San Francisco Monthly Weather Forecast](https://www.accuweather.com/en/us/san-francisco/94103/june-weather/347629): This site offers the monthly weather forecast for San Francisco, including daily high/low temperatures and historical averages.\\n2. [World-Weather.info - San Francisco Weather Forecast for June 2024](https://world-weather.info/forecast/usa/san_francisco/june-2024/): Detailed weather forecast for San Francisco in June 2024, including hourly, week, 10 days, 14 days, 30 days, and yearly forecasts.\\n\\nYou can check these links for the specific weather details in San Francisco.', response_metadata={'token_usage': {'completion_tokens': 159, 'prompt_tokens': 274, 'total_tokens': 433}, 'model_name': 'gpt-3.5-turbo', 'system_fingerprint': None, 'finish_reason': 'stop', 'logprobs': None}, id='run-d87ed4f1-77d5-49ec-92f6-518b44b3b9f4-0', usage_metadata={'input_tokens': 274, 'output_tokens': 159, 'total_tokens': 433})]}}\n",
      "----\n"
     ]
    }
   ],
   "source": [
    "# streaming messages\n",
    "for chunk in agent_executor.stream(\n",
    "    {\"messages\": [HumanMessage(content=\"whats the weather in sf?\")]}\n",
    "):\n",
    "    print(chunk)\n",
    "    print(\"----\")"
   ]
  },
  {
   "cell_type": "code",
   "execution_count": 11,
   "metadata": {},
   "outputs": [
    {
     "name": "stderr",
     "output_type": "stream",
     "text": [
      "C:\\Users\\wafoe\\AppData\\Roaming\\Python\\Python312\\site-packages\\langchain_core\\_api\\beta_decorator.py:87: LangChainBetaWarning: This API is in beta and may change in the future.\n",
      "  warn_beta(\n"
     ]
    },
    {
     "name": "stdout",
     "output_type": "stream",
     "text": [
      "--\n",
      "Starting tool: tavily_search_results_json with inputs: {'query': 'weather in San Francisco'}\n",
      "Done tool: tavily_search_results_json\n",
      "Tool output was: [{'url': 'https://www.accuweather.com/en/us/san-francisco/94103/june-weather/347629', 'content': 'Get the monthly weather forecast for San Francisco, CA, including daily high/low, historical averages, to help you plan ahead.'}, {'url': 'https://world-weather.info/forecast/usa/san_francisco/june-2024/', 'content': 'Extended weather forecast in San Francisco. Hourly Week 10 days 14 days 30 days Year. Detailed ⚡ San Francisco Weather Forecast for June 2024 - day/night 🌡️ temperatures, precipitations - World-Weather.info.'}]\n",
      "--\n",
      "I| found| some| resources| for| the| weather| in| San| Francisco|:\n",
      "|1|.| [|Acc|u|Weather|](|https|://|www|.acc|u|weather|.com|/en|/us|/s|an|-fr|anc|isco|/|941|03|/j|une|-|weather|/|347|629|):| Get| the| monthly| weather| forecast| for| San| Francisco|,| including| daily| high|/|low| temperatures| and| historical| averages| to| help| you| plan| ahead|.\n",
      "|2|.| [|World| Weather|](|https|://|world|-|weather|.info|/|forecast|/|usa|/s|an|_fr|anc|isco|/j|une|-|202|4|/|):| Extended| weather| forecast| in| San| Francisco| for| June| |202|4|,| including| hourly|,| week|,| |10| days|,| |14| days|,| |30| days|,| and| yearly| forecasts| with| day|/|night| temperatures| and| precipitation| details|.|"
     ]
    }
   ],
   "source": [
    "# streaming tokens\n",
    "async for event in agent_executor.astream_events(\n",
    "    {\"messages\": [HumanMessage(content=\"whats the weather in sf?\")]}, version=\"v1\"\n",
    "):\n",
    "    kind = event[\"event\"]\n",
    "    if kind == \"on_chain_start\":\n",
    "        if (\n",
    "            event[\"name\"] == \"Agent\"\n",
    "        ):  # Was assigned when creating the agent with `.with_config({\"run_name\": \"Agent\"})`\n",
    "            print(\n",
    "                f\"Starting agent: {event['name']} with input: {event['data'].get('input')}\"\n",
    "            )\n",
    "    elif kind == \"on_chain_end\":\n",
    "        if (\n",
    "            event[\"name\"] == \"Agent\"\n",
    "        ):  # Was assigned when creating the agent with `.with_config({\"run_name\": \"Agent\"})`\n",
    "            print()\n",
    "            print(\"--\")\n",
    "            print(\n",
    "                f\"Done agent: {event['name']} with output: {event['data'].get('output')['output']}\"\n",
    "            )\n",
    "    if kind == \"on_chat_model_stream\":\n",
    "        content = event[\"data\"][\"chunk\"].content\n",
    "        if content:\n",
    "            # Empty content in the context of OpenAI means\n",
    "            # that the model is asking for a tool to be invoked.\n",
    "            # So we only print non-empty content\n",
    "            print(content, end=\"|\")\n",
    "    elif kind == \"on_tool_start\":\n",
    "        print(\"--\")\n",
    "        print(\n",
    "            f\"Starting tool: {event['name']} with inputs: {event['data'].get('input')}\"\n",
    "        )\n",
    "    elif kind == \"on_tool_end\":\n",
    "        print(f\"Done tool: {event['name']}\")\n",
    "        print(f\"Tool output was: {event['data'].get('output')}\")\n",
    "        print(\"--\")"
   ]
  },
  {
   "cell_type": "code",
   "execution_count": 12,
   "metadata": {},
   "outputs": [],
   "source": [
    "# stateful agent\n",
    "from langgraph.checkpoint.sqlite import SqliteSaver\n",
    "\n",
    "memory = SqliteSaver.from_conn_string(\":memory:\")\n",
    "\n",
    "agent_executor = create_react_agent(model, tools, checkpointer=memory)\n",
    "\n",
    "config = {\"configurable\": {\"thread_id\": \"abc123\"}}"
   ]
  },
  {
   "cell_type": "code",
   "execution_count": 13,
   "metadata": {},
   "outputs": [
    {
     "name": "stdout",
     "output_type": "stream",
     "text": [
      "{'agent': {'messages': [AIMessage(content=\"Hello Julian! It's great to have you here. How can I assist you today?\", response_metadata={'token_usage': {'completion_tokens': 19, 'prompt_tokens': 93, 'total_tokens': 112}, 'model_name': 'gpt-3.5-turbo', 'system_fingerprint': None, 'finish_reason': 'stop', 'logprobs': None}, id='run-409c2ab5-c106-4b02-9e9f-f20ccb1be170-0', usage_metadata={'input_tokens': 93, 'output_tokens': 19, 'total_tokens': 112})]}}\n",
      "----\n"
     ]
    }
   ],
   "source": [
    "for chunk in agent_executor.stream(\n",
    "    {\"messages\": [HumanMessage(content=\"hi, im julian, please say hello to me!\")]}, config\n",
    "):\n",
    "    print(chunk)\n",
    "    print(\"----\")"
   ]
  },
  {
   "cell_type": "code",
   "execution_count": 14,
   "metadata": {},
   "outputs": [
    {
     "name": "stdout",
     "output_type": "stream",
     "text": [
      "{'agent': {'messages': [AIMessage(content='Your name is Julian! How can I help you further, Julian?', response_metadata={'token_usage': {'completion_tokens': 15, 'prompt_tokens': 126, 'total_tokens': 141}, 'model_name': 'gpt-3.5-turbo', 'system_fingerprint': None, 'finish_reason': 'stop', 'logprobs': None}, id='run-9634e246-03d4-4fd6-b818-b4bcb5c35e97-0', usage_metadata={'input_tokens': 126, 'output_tokens': 15, 'total_tokens': 141})]}}\n",
      "----\n"
     ]
    }
   ],
   "source": [
    "for chunk in agent_executor.stream(\n",
    "    {\"messages\": [HumanMessage(content=\"thanks mate! whats my name?\")]}, config\n",
    "):\n",
    "    print(chunk)\n",
    "    print(\"----\")"
   ]
  }
 ],
 "metadata": {
  "kernelspec": {
   "display_name": "Python 3",
   "language": "python",
   "name": "python3"
  },
  "language_info": {
   "codemirror_mode": {
    "name": "ipython",
    "version": 3
   },
   "file_extension": ".py",
   "mimetype": "text/x-python",
   "name": "python",
   "nbconvert_exporter": "python",
   "pygments_lexer": "ipython3",
   "version": "3.12.3"
  }
 },
 "nbformat": 4,
 "nbformat_minor": 2
}
